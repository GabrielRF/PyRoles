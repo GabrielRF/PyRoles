{
 "cells": [
  {
   "cell_type": "code",
   "execution_count": null,
   "metadata": {},
   "outputs": [],
   "source": [
    "#importando o que precisa\n",
    "from telebot import TeleBot\n",
    "import flickrapi\n",
    "\n",
    "#autenticando o flickr\n",
    "api_key = u'...'\n",
    "api_secret = u'...'\n",
    "flickr = flickrapi.FlickrAPI(api_key, api_secret)\n",
    "flickr.authenticate_via_browser(perms='delete')\n",
    " \n",
    " \n",
    "# autenticando o bot\n",
    "TOKEN = '...'\n",
    "bot = TeleBot(TOKEN)\n",
    "\n",
    "#passando o comando start e help para o bot\n",
    "@bot.message_handler(commands=['start', 'help'])\n",
    "def send_welcome(message):\n",
    "    bot.reply_to(message, \"Olá, eu sou o PyRolês[14]! \\nEu consigo fazer uploads de todas as fotos dos rolês que aconteceram para o <a href='https://www.flickr.com/photos/160228175@N08/'>álbum PyRolês</a>. \\nMas para isso acontecer, é necessário seguir algumas informações antes:\\n\\n▪️ É preciso que você envie por aqui a fotografia. Não envie como documento, eu só aceito 'ibagens'.  \\n▪️ Não envie imagens de pessoas caso elas não queiram ou não saibam. Pergunte antes! 📵  \\n▪️ Não envie nudes. 🔞  \\n\\nE lembre-se: \\nPessoas >>> Tecnologia. \\nUm ótimo evento para você! 💛💙\", parse_mode=\"HTML\", disable_web_page_preview=True)\n",
    "\n",
    "#salvando a foto no sistema e fazendo o upload para o flickr \n",
    "@bot.message_handler(content_types=['photo'])\n",
    "def get_doc(message):\n",
    "    raw = message.photo[-1].file_id\n",
    "    path = raw+\".jpg\"\n",
    "    file_info = bot.get_file(raw)\n",
    "    downloaded_file = bot.download_file(file_info.file_path)\n",
    "    with open(path, 'wb') as new_file:\n",
    "        new_file.write(downloaded_file)\n",
    "    bot.reply_to(message, \"A sua fotografia agora faz parte do <a href='https://www.flickr.com/photos/160228175@N08/'>álbum PyRolês</a> ! \\nObrigada por fazer essa comunidade ser tão maravilhosa!💛💙\", parse_mode=\"HTML\", disable_web_page_preview=True)\n",
    "    flickr.upload(filename=path, title='PyBR14', description='Python Brasil [14]')\n",
    " \n",
    "bot.polling()"
   ]
  },
  {
   "cell_type": "code",
   "execution_count": null,
   "metadata": {},
   "outputs": [],
   "source": []
  }
 ],
 "metadata": {
  "kernelspec": {
   "display_name": "Python 3",
   "language": "python",
   "name": "python3"
  },
  "language_info": {
   "codemirror_mode": {
    "name": "ipython",
    "version": 3
   },
   "file_extension": ".py",
   "mimetype": "text/x-python",
   "name": "python",
   "nbconvert_exporter": "python",
   "pygments_lexer": "ipython3",
   "version": "3.6.5"
  }
 },
 "nbformat": 4,
 "nbformat_minor": 2
}
